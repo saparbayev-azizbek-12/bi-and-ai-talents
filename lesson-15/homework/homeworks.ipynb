{
 "cells": [
  {
   "cell_type": "code",
   "execution_count": 2,
   "metadata": {},
   "outputs": [],
   "source": [
    "import numpy as np\n",
    "import matplotlib.pyplot as plt"
   ]
  },
  {
   "cell_type": "markdown",
   "metadata": {},
   "source": [
    "Create a vector with values ranging from 10 to 49."
   ]
  },
  {
   "cell_type": "code",
   "execution_count": 2,
   "metadata": {},
   "outputs": [
    {
     "data": {
      "text/plain": [
       "array([10, 11, 12, 13, 14, 15, 16, 17, 18, 19, 20, 21, 22, 23, 24, 25, 26,\n",
       "       27, 28, 29, 30, 31, 32, 33, 34, 35, 36, 37, 38, 39, 40, 41, 42, 43,\n",
       "       44, 45, 46, 47, 48, 49])"
      ]
     },
     "execution_count": 2,
     "metadata": {},
     "output_type": "execute_result"
    }
   ],
   "source": [
    "a = np.arange(10,50)\n",
    "a"
   ]
  },
  {
   "cell_type": "markdown",
   "metadata": {},
   "source": [
    "Create a 3x3 matrix with values ranging from 0 to 8."
   ]
  },
  {
   "cell_type": "code",
   "execution_count": 4,
   "metadata": {},
   "outputs": [
    {
     "data": {
      "text/plain": [
       "array([[0, 1, 2],\n",
       "       [3, 4, 5],\n",
       "       [6, 7, 8]])"
      ]
     },
     "execution_count": 4,
     "metadata": {},
     "output_type": "execute_result"
    }
   ],
   "source": [
    "b = np.arange(9).reshape(3,3)\n",
    "b"
   ]
  },
  {
   "cell_type": "markdown",
   "metadata": {},
   "source": [
    "Create a 3x3 identity matrix.\n"
   ]
  },
  {
   "cell_type": "code",
   "execution_count": 6,
   "metadata": {},
   "outputs": [
    {
     "data": {
      "text/plain": [
       "array([[1., 0., 0.],\n",
       "       [0., 1., 0.],\n",
       "       [0., 0., 1.]])"
      ]
     },
     "execution_count": 6,
     "metadata": {},
     "output_type": "execute_result"
    }
   ],
   "source": [
    "c = np.eye(3)\n",
    "c"
   ]
  },
  {
   "cell_type": "markdown",
   "metadata": {},
   "source": [
    "Create a 3x3x3 array with random values."
   ]
  },
  {
   "cell_type": "code",
   "execution_count": 7,
   "metadata": {},
   "outputs": [
    {
     "data": {
      "text/plain": [
       "array([[[0.79739605, 0.12500869, 0.27780026],\n",
       "        [0.04223905, 0.01002976, 0.9451664 ],\n",
       "        [0.4114577 , 0.88764014, 0.96638625]],\n",
       "\n",
       "       [[0.80226632, 0.94938793, 0.17398243],\n",
       "        [0.58136345, 0.48357758, 0.81409323],\n",
       "        [0.06062561, 0.02108277, 0.49226774]],\n",
       "\n",
       "       [[0.21586403, 0.45831155, 0.96188864],\n",
       "        [0.15984311, 0.82388817, 0.05059574],\n",
       "        [0.48585262, 0.38659064, 0.22587601]]])"
      ]
     },
     "execution_count": 7,
     "metadata": {},
     "output_type": "execute_result"
    }
   ],
   "source": [
    "d = np.random.random((3,3,3))\n",
    "d"
   ]
  },
  {
   "cell_type": "markdown",
   "metadata": {},
   "source": [
    "Create a 10x10 array with random values and find the minimum and maximum values."
   ]
  },
  {
   "cell_type": "code",
   "execution_count": 9,
   "metadata": {},
   "outputs": [
    {
     "name": "stdout",
     "output_type": "stream",
     "text": [
      "0.003927844415446025 0.9913666105018822\n"
     ]
    }
   ],
   "source": [
    "e = np.random.random(100).reshape(10,10)\n",
    "print(e.min(), e.max())"
   ]
  },
  {
   "cell_type": "markdown",
   "metadata": {},
   "source": [
    "Create a random vector of size 30 and find the mean value."
   ]
  },
  {
   "cell_type": "code",
   "execution_count": 10,
   "metadata": {},
   "outputs": [
    {
     "data": {
      "text/plain": [
       "np.float64(0.42437651932664944)"
      ]
     },
     "execution_count": 10,
     "metadata": {},
     "output_type": "execute_result"
    }
   ],
   "source": [
    "f = np.random.random(30)\n",
    "f.mean()"
   ]
  },
  {
   "cell_type": "markdown",
   "metadata": {},
   "source": [
    "Normalize a 5x5 random matrix."
   ]
  },
  {
   "cell_type": "code",
   "execution_count": 37,
   "metadata": {},
   "outputs": [
    {
     "name": "stdout",
     "output_type": "stream",
     "text": [
      "2.9557698833719974\n"
     ]
    },
    {
     "data": {
      "text/plain": [
       "array([[0.05887584, 0.19943694, 0.23926501, 0.335614  , 0.18071355],\n",
       "       [0.30156096, 0.3257621 , 0.0960892 , 0.04789836, 0.2447386 ],\n",
       "       [0.11008592, 0.23999749, 0.20473915, 0.2784803 , 0.01097026],\n",
       "       [0.01174386, 0.17287325, 0.13030214, 0.08856686, 0.20517676],\n",
       "       [0.14117977, 0.20283356, 0.23895316, 0.2551235 , 0.1273647 ]])"
      ]
     },
     "execution_count": 37,
     "metadata": {},
     "output_type": "execute_result"
    }
   ],
   "source": [
    "g = np.random.random(25).reshape(5,5)\n",
    "norm = np.linalg.norm(g)\n",
    "normalized = g / norm\n",
    "normalized\n"
   ]
  },
  {
   "cell_type": "markdown",
   "metadata": {},
   "source": [
    "Multiply a 5x3 matrix by a 3x2 matrix (real matrix product).\n"
   ]
  },
  {
   "cell_type": "code",
   "execution_count": 39,
   "metadata": {},
   "outputs": [
    {
     "data": {
      "text/plain": [
       "array([[0.69108842, 0.28527625],\n",
       "       [0.75865474, 0.60928355],\n",
       "       [0.87355796, 0.84669013],\n",
       "       [0.57428604, 0.34493407],\n",
       "       [0.51948938, 0.88342866]])"
      ]
     },
     "execution_count": 39,
     "metadata": {},
     "output_type": "execute_result"
    }
   ],
   "source": [
    "v1 = np.random.rand(5,3)\n",
    "v2 = np.random.rand(3,2)\n",
    "v1 @ v2"
   ]
  },
  {
   "cell_type": "markdown",
   "metadata": {},
   "source": [
    "Create two 3x3 matrices and compute their dot product.\n"
   ]
  },
  {
   "cell_type": "code",
   "execution_count": 41,
   "metadata": {},
   "outputs": [
    {
     "data": {
      "text/plain": [
       "array([[0.5506381 , 0.94304955, 0.35723749],\n",
       "       [0.62577634, 1.1365583 , 0.35247444],\n",
       "       [0.25207022, 0.66337128, 0.16889787]])"
      ]
     },
     "execution_count": 41,
     "metadata": {},
     "output_type": "execute_result"
    }
   ],
   "source": [
    "v3 = np.random.rand(3,3)\n",
    "v4 = np.random.rand(3,3)\n",
    "v3.dot(v4)"
   ]
  },
  {
   "cell_type": "markdown",
   "metadata": {},
   "source": [
    "Given a 4x4 matrix, find its transpose.\n"
   ]
  },
  {
   "cell_type": "code",
   "execution_count": 54,
   "metadata": {},
   "outputs": [
    {
     "data": {
      "text/plain": [
       "array([[0.84242828, 0.17875252, 0.08649345, 0.55016235],\n",
       "       [0.38916427, 0.70290301, 0.90705719, 0.35806199],\n",
       "       [0.79233292, 0.40299156, 0.14545606, 0.03038034],\n",
       "       [0.3055409 , 0.67002202, 0.73846553, 0.46035023]])"
      ]
     },
     "execution_count": 54,
     "metadata": {},
     "output_type": "execute_result"
    }
   ],
   "source": [
    "v5 = np.random.rand(4,4).astype(np.float64)\n",
    "v5.transpose()"
   ]
  },
  {
   "cell_type": "markdown",
   "metadata": {},
   "source": [
    "Create a 3x3 matrix and calculate its determinant.\n"
   ]
  },
  {
   "cell_type": "code",
   "execution_count": 55,
   "metadata": {},
   "outputs": [
    {
     "data": {
      "text/plain": [
       "np.float64(0.19493452263950065)"
      ]
     },
     "execution_count": 55,
     "metadata": {},
     "output_type": "execute_result"
    }
   ],
   "source": [
    "v6 = np.random.rand(3,3)\n",
    "np.linalg.det(v6)"
   ]
  },
  {
   "cell_type": "markdown",
   "metadata": {},
   "source": [
    "Create two matrices ( A ) (3x4) and ( B ) (4x3), and compute the matrix product ( A \\cdot B )."
   ]
  },
  {
   "cell_type": "code",
   "execution_count": 3,
   "metadata": {},
   "outputs": [
    {
     "data": {
      "text/plain": [
       "array([[0, 0, 0],\n",
       "       [0, 0, 0],\n",
       "       [0, 0, 0]])"
      ]
     },
     "execution_count": 3,
     "metadata": {},
     "output_type": "execute_result"
    }
   ],
   "source": [
    "A = np.random.rand(3,4).astype(np.int64)\n",
    "B = np.random.rand(4,3).astype(np.int64)\n",
    "\n",
    "ans = np.dot(A,B)\n",
    "ans"
   ]
  },
  {
   "cell_type": "markdown",
   "metadata": {},
   "source": [
    "Create a 3x3 random matrix and a 3-element column vector. Compute the matrix-vector product."
   ]
  },
  {
   "cell_type": "code",
   "execution_count": 5,
   "metadata": {},
   "outputs": [
    {
     "name": "stdout",
     "output_type": "stream",
     "text": [
      "[[0]\n",
      " [0]\n",
      " [0]]\n"
     ]
    }
   ],
   "source": [
    "v10 = np.random.rand(3,3).astype(np.int64)\n",
    "v11 = np.random.rand(3,1).astype(np.int64)\n",
    "print(np.dot(v10,v11))"
   ]
  },
  {
   "cell_type": "markdown",
   "metadata": {},
   "source": [
    "Solve the linear system ( Ax = b ) where ( A ) is a 3x3 matrix, and ( b ) is a 3x1 column vector.\n"
   ]
  },
  {
   "cell_type": "code",
   "execution_count": 7,
   "metadata": {},
   "outputs": [
    {
     "name": "stdout",
     "output_type": "stream",
     "text": [
      "No solution\n"
     ]
    }
   ],
   "source": [
    "v12 = np.array([\n",
    "    [1,2,3],\n",
    "    [4,5,6],\n",
    "    [7,8,9]\n",
    "])\n",
    "\n",
    "v13 = np.array([1,2,3])\n",
    "\n",
    "if np.linalg.det(v12) != 0:\n",
    "    x = np.linalg.solve(v12,v13)\n",
    "    print(x)\n",
    "else:\n",
    "    print(\"No solution\")"
   ]
  },
  {
   "cell_type": "markdown",
   "metadata": {},
   "source": [
    "Given a 5x5 matrix, find the row-wise and column-wise sums"
   ]
  },
  {
   "cell_type": "code",
   "execution_count": 3,
   "metadata": {},
   "outputs": [
    {
     "name": "stdout",
     "output_type": "stream",
     "text": [
      "[ 15  40  65  90 115]\n",
      "[55 60 65 70 75]\n"
     ]
    }
   ],
   "source": [
    "matrix = np.array([\n",
    "    [1,2,3,4,5],\n",
    "    [6,7,8,9,10],\n",
    "    [11,12,13,14,15],\n",
    "    [16,17,18,19,20],\n",
    "    [21,22,23,24,25]\n",
    "])\n",
    "\n",
    "row = np.sum(matrix, axis=1)\n",
    "\n",
    "column = np.sum(matrix, axis=0)\n",
    "\n",
    "print(row)\n",
    "print(column)"
   ]
  }
 ],
 "metadata": {
  "kernelspec": {
   "display_name": "Python 3",
   "language": "python",
   "name": "python3"
  },
  "language_info": {
   "codemirror_mode": {
    "name": "ipython",
    "version": 3
   },
   "file_extension": ".py",
   "mimetype": "text/x-python",
   "name": "python",
   "nbconvert_exporter": "python",
   "pygments_lexer": "ipython3",
   "version": "3.11.0"
  }
 },
 "nbformat": 4,
 "nbformat_minor": 2
}

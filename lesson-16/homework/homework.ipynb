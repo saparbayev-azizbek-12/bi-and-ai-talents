{
 "cells": [
  {
   "cell_type": "code",
   "execution_count": 2,
   "metadata": {},
   "outputs": [],
   "source": [
    "import numpy as np"
   ]
  },
  {
   "cell_type": "markdown",
   "metadata": {},
   "source": [
    "Task 1. Write a Python function that converts a temperature from Fahrenheit to Celsius. Use `numpy.vectorize` to apply this function to an array of temperatures: `[32, 68, 100, 212, 77]`. \n",
    "   - Formula: $C = (F - 32) \\times \\frac{5}{9}$"
   ]
  },
  {
   "cell_type": "code",
   "execution_count": 5,
   "metadata": {},
   "outputs": [
    {
     "data": {
      "text/plain": [
       "array([  0.        ,  20.        ,  37.77777778, 100.        ,\n",
       "        25.        ])"
      ]
     },
     "execution_count": 5,
     "metadata": {},
     "output_type": "execute_result"
    }
   ],
   "source": [
    "def f_to_c(f):\n",
    "    return (f - 32) * 5 / 9\n",
    "\n",
    "temps = np.array([32, 68, 100, 212, 77])\n",
    "vectorized_vec = np.vectorize(f_to_c)\n",
    "celsius_temps = vectorized_vec(temps)\n",
    "celsius_temps"
   ]
  },
  {
   "cell_type": "markdown",
   "metadata": {},
   "source": [
    "Task 2. Create a custom function that takes two arguments: a number and a power. Use numpy.vectorize to calculate the power for each pair of numbers in two arrays: [2, 3, 4, 5] and [1, 2, 3, 4]."
   ]
  },
  {
   "cell_type": "code",
   "execution_count": 4,
   "metadata": {},
   "outputs": [
    {
     "data": {
      "text/plain": [
       "array([  2,   9,  64, 625])"
      ]
     },
     "execution_count": 4,
     "metadata": {},
     "output_type": "execute_result"
    }
   ],
   "source": [
    "def power_of_vec(n, p):\n",
    "    return n ** p\n",
    "\n",
    "vec = np.array([2, 3, 4, 5])\n",
    "pow = np.array([1, 2, 3, 4])\n",
    "\n",
    "vectorized_power = np.vectorize(power_of_vec)\n",
    "vectorized_power(vec, pow)"
   ]
  },
  {
   "cell_type": "markdown",
   "metadata": {},
   "source": [
    "Task 3. Solve the system of equations using `numpy`:\n",
    "\n",
    "$$\n",
    "\\begin{cases}\n",
    "4x + 5y + 6z = 7 \\\\\n",
    "3x - y + z = 4 \\\\\n",
    "2x + y - 2z = 5\n",
    "\\end{cases}\n",
    "$$"
   ]
  },
  {
   "cell_type": "code",
   "execution_count": 3,
   "metadata": {},
   "outputs": [
    {
     "data": {
      "text/plain": [
       "array([0.86486486, 0.83783784, 0.51351351])"
      ]
     },
     "execution_count": 3,
     "metadata": {},
     "output_type": "execute_result"
    }
   ],
   "source": [
    "W = np.array([\n",
    "    [4,3,2],\n",
    "    [5,-1,1],\n",
    "    [6,1,-2]\n",
    "])\n",
    "\n",
    "Y = np.array([7,4,5])\n",
    "ans = np.linalg.solve(W,Y)\n",
    "ans"
   ]
  },
  {
   "cell_type": "markdown",
   "metadata": {},
   "source": [
    "Task 4. Given the electrical circuit equations below, solve for $I_1, I_2, I_3$ (currenst in the branches)\n",
    "\n",
    "$$\n",
    "\\begin{cases}\n",
    "10I_1 - 2I_2 + 3I_3 = 12\\\\\n",
    "-2I_1 + 8I_2 - I_3 = -5\\\\\n",
    "3I_1 - I_2 + 6I_3 =15\n",
    "\\end{cases}\n",
    "$$"
   ]
  },
  {
   "cell_type": "code",
   "execution_count": 4,
   "metadata": {},
   "outputs": [
    {
     "data": {
      "text/plain": [
       "array([ 0.48963731, -0.2253886 ,  2.21761658])"
      ]
     },
     "execution_count": 4,
     "metadata": {},
     "output_type": "execute_result"
    }
   ],
   "source": [
    "W = np.array([\n",
    "    [10, -2, 3],\n",
    "    [-2, 8, -1],\n",
    "    [3, -1, 6]\n",
    "])\n",
    "\n",
    "Y = np.array([12, -5, 15])\n",
    "\n",
    "ans = np.linalg.solve(W, Y)\n",
    "ans"
   ]
  },
  {
   "cell_type": "code",
   "execution_count": 30,
   "metadata": {},
   "outputs": [
    {
     "data": {
      "text/plain": [
       "(720, 720)"
      ]
     },
     "execution_count": 30,
     "metadata": {},
     "output_type": "execute_result"
    }
   ],
   "source": [
    "from PIL import Image\n",
    "\n",
    "with Image.open(\"images/birds.jpg\") as img:\n",
    "    img_arr = np.array(img)\n",
    "\n",
    "gray_img_arr = (img_arr[:, :, 0] * 0.299 + img_arr[:, :, 1] * 0.587 + img_arr[:, :, 2] * 0.114).astype(np.int8)\n",
    "\n",
    "gray_img_arr.shape"
   ]
  },
  {
   "cell_type": "markdown",
   "metadata": {},
   "source": [
    "**Image Manipulation with NumPy and PIL**\n",
    "\n",
    "Image file: `images/birds.jpg`. Your task is to perform the following image manipulations using the **NumPy** library while leveraging **PIL** for reading and saving the image.\n",
    "\n",
    "**Instructions:**\n",
    "\n",
    "1. **Flip the Image**:\n",
    "   - Flip the image horizontally and vertically (left-to-right and up-to-down).\n",
    "\n",
    "2. **Add Random Noise**:\n",
    "   - Add random noise to the image.\n",
    "\n",
    "3. **Brighten Channels**:\n",
    "   - Increase the brightness of the channels (r.g. red channel) by a fixed value (e.g., 40). Clip the values to ensure they stay within the 0 to 255 range.\n",
    "\n",
    "4. **Apply a Mask**:\n",
    "   - Mask a rectangular region in the image (e.g., a 100x100 area in the center) by setting all pixel values in this region to black (0, 0, 0).\n",
    "\n",
    "**Requirements:**\n",
    "- Use the **PIL** module onyl to:\n",
    "  - Read the image.\n",
    "  - Convert numpy array to image.\n",
    "  - Save the modified image back to a file.\n",
    "- Perform all manipulations using NumPy functions. Avoid using image editing functions from PIL or other libraries.\n",
    "\n",
    "\n",
    "**Bonus Challenge**:\n",
    "- Create a function for each manipulation (e.g., `flip_image`, `add_noise`, `brighten_channels`, `apply_mask`) to promote modularity and reusability of code.\n",
    "\n",
    "--- "
   ]
  },
  {
   "cell_type": "code",
   "execution_count": 3,
   "metadata": {},
   "outputs": [],
   "source": [
    "from PIL import Image\n",
    "\n",
    "def flip_image(img_arr):\n",
    "    # Flip horizontally\n",
    "    flipped_horizontally = np.fliplr(img_arr)\n",
    "    # Flip vertically\n",
    "    flipped_vertically = np.flipud(img_arr)\n",
    "    return flipped_horizontally, flipped_vertically\n",
    "\n",
    "def add_noise(img_arr, noise_level=20):\n",
    "    noise = np.random.randint(-noise_level, noise_level, img_arr.shape, dtype=np.int16)\n",
    "    noisy_img = img_arr.astype(np.int16) + noise\n",
    "    noisy_img = np.clip(noisy_img, 0, 255).astype(np.uint8)\n",
    "    return noisy_img\n",
    "\n",
    "def brighten_channels(img_arr, brightness_increase=40):\n",
    "    brightened_img = img_arr.astype(np.int16) + brightness_increase\n",
    "    brightened_img = np.clip(brightened_img, 0, 255).astype(np.uint8)\n",
    "    return brightened_img\n",
    "\n",
    "def apply_mask(img_arr, mask_size=(100, 100)):\n",
    "    center_x, center_y = img_arr.shape[1] // 2, img_arr.shape[0] // 2\n",
    "    half_mask_width, half_mask_height = mask_size[0] // 2, mask_size[1] // 2\n",
    "    masked_img = img_arr.copy()\n",
    "    masked_img[center_y - half_mask_height:center_y + half_mask_height,\n",
    "               center_x - half_mask_width:center_x + half_mask_width] = 0\n",
    "    return masked_img\n",
    "\n",
    "with Image.open(\"images/birds.jpg\") as img:\n",
    "    img_arr = np.array(img)\n",
    "\n",
    "\n",
    "flipped_horizontally, flipped_vertically = flip_image(img_arr)\n",
    "noisy_img = add_noise(img_arr)\n",
    "brightened_img = brighten_channels(img_arr)\n",
    "masked_img = apply_mask(img_arr)\n",
    "\n",
    "# Save the manipulated images\n",
    "Image.fromarray(flipped_horizontally).save(\"images/birds_flipped_horizontally.jpg\")\n",
    "Image.fromarray(flipped_vertically).save(\"images/birds_flipped_vertically.jpg\")\n",
    "Image.fromarray(noisy_img).save(\"images/birds_noisy.jpg\")\n",
    "Image.fromarray(brightened_img).save(\"images/birds_brightened.jpg\")\n",
    "Image.fromarray(masked_img).save(\"images/birds_masked.jpg\")"
   ]
  }
 ],
 "metadata": {
  "kernelspec": {
   "display_name": "Python 3",
   "language": "python",
   "name": "python3"
  },
  "language_info": {
   "codemirror_mode": {
    "name": "ipython",
    "version": 3
   },
   "file_extension": ".py",
   "mimetype": "text/x-python",
   "name": "python",
   "nbconvert_exporter": "python",
   "pygments_lexer": "ipython3",
   "version": "3.11.0"
  }
 },
 "nbformat": 4,
 "nbformat_minor": 2
}
